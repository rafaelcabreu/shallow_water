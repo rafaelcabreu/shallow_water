{
 "cells": [
  {
   "cell_type": "code",
   "execution_count": null,
   "metadata": {
    "collapsed": true
   },
   "outputs": [],
   "source": [
    "import julia\n",
    "\n",
    "import numpy as np\n",
    "\n",
    "import cartopy.crs as ccrs\n",
    "import cartopy.feature as cfeature\n",
    "from ipywidgets import interact\n",
    "import matplotlib.pyplot as plt\n",
    "% matplotlib inline"
   ]
  },
  {
   "cell_type": "code",
   "execution_count": null,
   "metadata": {
    "collapsed": true
   },
   "outputs": [],
   "source": [
    "def add_features(ax, extent=[-80, 80, -40, 40], xspace=10, yspace=10, labels=True):\n",
    "\n",
    "    if labels:\n",
    "        ax.set_xticks(np.arange(extent[0], extent[1] + xspace, xspace), crs=ccrs.PlateCarree())\n",
    "        ax.set_yticks(np.arange(extent[2], extent[3] + yspace, yspace), crs=ccrs.PlateCarree())\n",
    "\n",
    "    ax.coastlines('50m')\n",
    "    ax.add_feature(cfeature.BORDERS)\n",
    "\n",
    "    return ax\n",
    "\n",
    "def get_clims(array, pmin=5, pmax=95):\n",
    "    cmin = np.percentile(array, pmin)\n",
    "    cmax = np.percentile(array, pmax)\n",
    "\n",
    "    return cmin, cmax"
   ]
  },
  {
   "cell_type": "code",
   "execution_count": null,
   "metadata": {
    "collapsed": true
   },
   "outputs": [],
   "source": [
    "j = julia.Julia()\n",
    "j.include('./model/shallow_water.jl');"
   ]
  },
  {
   "cell_type": "code",
   "execution_count": null,
   "metadata": {
    "collapsed": true
   },
   "outputs": [],
   "source": [
    "dx = 100000.\n",
    "dy = 100000\n",
    "H = 250\n",
    "dt = 400\n",
    "int_time = 72 # integration time in hours \n",
    "output_int = 1 # output interval in hours\n",
    "\n",
    "# x and y location of the heatsource in meters\n",
    "x0 = -1.5e6\n",
    "y0 = -1.5e6\n",
    "wd = 10 # width of the heatsource\n",
    "\n",
    "# calls shallow water function developed in julia\n",
    "_phi, _u, _v, _fphi, _div, _curl, _lons, _lats, _t = \\\n",
    "    j.shallow_water(dx, dy, H, dt, int_time, output_int, x0, y0, wd)"
   ]
  },
  {
   "cell_type": "code",
   "execution_count": null,
   "metadata": {
    "collapsed": true
   },
   "outputs": [],
   "source": [
    "# transform julia arrays in numpy arrays\n",
    "phi = np.array(_phi)\n",
    "u = np.array(_u)\n",
    "v = np.array(_v)\n",
    "div = np.array(_div)\n",
    "curl = np.array(_curl)\n",
    "lons = np.array(_lons)\n",
    "lats = np.array(_lats)\n",
    "t = np.array(_t)\n",
    "\n",
    "# number of output times\n",
    "nt = t.shape[0]"
   ]
  },
  {
   "cell_type": "code",
   "execution_count": null,
   "metadata": {
    "collapsed": true
   },
   "outputs": [],
   "source": [
    "def plot_data(ntime):\n",
    "    fig, [ax1, ax2, ax3] = plt.subplots(3, 1, figsize=(16, 18), \n",
    "        subplot_kw={'projection': ccrs.PlateCarree()}, sharex=True)\n",
    "\n",
    "    # get reference values to set colorbar\n",
    "    # for divergence\n",
    "    cmin, cmax = get_clims(div * 1e5, pmax=99, pmin=1)\n",
    "    div_ref = max(abs(cmin), abs(cmax))\n",
    "    # for vorticity\n",
    "    cmin, cmax = get_clims(curl * 1e5, pmax=99, pmin=1)\n",
    "    curl_ref = max(abs(cmin), abs(cmax))\n",
    "\n",
    "    skip = 5\n",
    "    cf1 = ax1.contourf(lons, lats, phi[ntime], cmap='bone_r')\n",
    "    Q = ax1.quiver(lons[::skip, ::skip], lats[::skip, ::skip], \n",
    "        u[ntime, ::skip, ::skip], v[ntime, ::skip, ::skip])\n",
    "    cf2 = ax2.contourf(lons, lats, div[ntime] * 1e5, np.linspace(-div_ref, div_ref, 8), cmap='RdBu', extend='both')\n",
    "    cf3 = ax3.contourf(lons, lats, curl[ntime] * 1e5, np.linspace(-curl_ref, curl_ref, 8), cmap='PiYG', extend='both')\n",
    "\n",
    "    # add colorbars\n",
    "    fig.colorbar(cf1, ax=ax1)\n",
    "    fig.colorbar(cf2, ax=ax2)\n",
    "    fig.colorbar(cf3, ax=ax3)\n",
    "\n",
    "    # include titles\n",
    "    ax1.set_title(r\"[t = %3.1f h] $\\phi$' (m$^{2}$/s$^{2}$)\" % (t[ntime] / 3600.))\n",
    "    ax2.set_title(r\"[t = %3.1f h] divergence (10$^{-5}$ s$^{-1}$)\" % (t[ntime] / 3600.))\n",
    "    ax3.set_title(r\"[t = %3.1f h] vorticity (10$^{-5}$ s$^{-1}$)\" % (t[ntime] / 3600.))\n",
    "\n",
    "    for ax in [ax1, ax2, ax3]:\n",
    "        ax = add_features(ax)\n",
    "        \n",
    "interact(plot_data, ntime=(0,nt,1))"
   ]
  }
 ],
 "metadata": {
  "kernelspec": {
   "display_name": "Python 2",
   "language": "python",
   "name": "python2"
  },
  "language_info": {
   "codemirror_mode": {
    "name": "ipython",
    "version": 2
   },
   "file_extension": ".py",
   "mimetype": "text/x-python",
   "name": "python",
   "nbconvert_exporter": "python",
   "pygments_lexer": "ipython2",
   "version": "2.7.14"
  }
 },
 "nbformat": 4,
 "nbformat_minor": 2
}
